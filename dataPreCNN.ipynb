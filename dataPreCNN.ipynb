{
 "cells": [
  {
   "cell_type": "code",
   "execution_count": 1,
   "metadata": {
    "collapsed": false,
    "deletable": true,
    "editable": true
   },
   "outputs": [
    {
     "name": "stdout",
     "output_type": "stream",
     "text": [
      "1\n",
      "1\n",
      "1\n",
      "1\n",
      "1\n",
      "1\n",
      "1\n",
      "1\n",
      "1\n"
     ]
    }
   ],
   "source": [
    "import scipy.io as sio\n",
    "import numpy as np\n",
    "import theano.tensor as T\n",
    "import functools\n",
    "\n",
    "participants = []\n",
    "for num in xrange(1,10):\n",
    "    participants.append(sio.loadmat(\"data-science-P\" + str(num) + \".mat\"))\n",
    "\n",
    "def convert(x, data):\n",
    "    if x == 0:\n",
    "        return float('0')\n",
    "    else:\n",
    "        return data[x-1]\n",
    "\n",
    "processedData = {\"p\"+str(i): [] for i in xrange(1,10)}\n",
    "\n",
    "for i, p in enumerate(participants):\n",
    "    mapping = p[\"meta\"][\"coordToCol\"][0][0]\n",
    "    print 1\n",
    "    for w in xrange(360):\n",
    "        oriData = p[\"data\"][w][0][0]\n",
    "        vConvert = np.vectorize(lambda x: convert(x, oriData))\n",
    "        processedData[\"p\"+str(i+1)].append(vConvert(np.copy(mapping)))\n",
    "\n",
    "for i in xrange(9):\n",
    "    processedData[\"p\"+str(i+1)] = np.array(processedData[\"p\"+str(i+1)])"
   ]
  },
  {
   "cell_type": "code",
   "execution_count": 2,
   "metadata": {
    "collapsed": false,
    "deletable": true,
    "editable": true
   },
   "outputs": [
    {
     "data": {
      "text/plain": [
       "(360, 51, 61, 23)"
      ]
     },
     "execution_count": 2,
     "metadata": {},
     "output_type": "execute_result"
    }
   ],
   "source": [
    "processedData[\"p1\"].shape"
   ]
  },
  {
   "cell_type": "markdown",
   "metadata": {
    "deletable": true,
    "editable": true
   },
   "source": [
    "## Parsing the y of the data"
   ]
  },
  {
   "cell_type": "code",
   "execution_count": 3,
   "metadata": {
    "collapsed": false,
    "deletable": true,
    "editable": true
   },
   "outputs": [],
   "source": [
    "yCond = np.empty([360, 1], dtype=\"int32\")\n",
    "yWord = np.empty([360, 1], dtype=\"int32\")\n",
    "\n",
    "for i in xrange(360):\n",
    "    condN = participants[0][\"info\"][\"cond_number\"][0][i][0]\n",
    "    wordN = participants[0][\"info\"][\"word_number\"][0][i][0]\n",
    "    yCond[i] = condN\n",
    "    yWord[i] = 10*condN + wordN\n",
    "\n",
    "uniqueWord = np.unique(yWord)\n",
    "\n",
    "for i in xrange(360):\n",
    "    yWord[i] = np.where(uniqueWord==yWord[i])[0][0]"
   ]
  },
  {
   "cell_type": "code",
   "execution_count": 4,
   "metadata": {
    "collapsed": false,
    "deletable": true,
    "editable": true
   },
   "outputs": [],
   "source": [
    "yCond = yCond - 1"
   ]
  },
  {
   "cell_type": "code",
   "execution_count": 5,
   "metadata": {
    "collapsed": false,
    "deletable": true,
    "editable": true
   },
   "outputs": [
    {
     "data": {
      "text/plain": [
       "dtype('int32')"
      ]
     },
     "execution_count": 5,
     "metadata": {},
     "output_type": "execute_result"
    }
   ],
   "source": [
    "yWord.dtype"
   ]
  },
  {
   "cell_type": "code",
   "execution_count": 54,
   "metadata": {
    "collapsed": false,
    "deletable": true,
    "editable": true
   },
   "outputs": [],
   "source": [
    "sio.savemat('condOrWords.mat', {\"cond\":yCond, \"word\":yWord})"
   ]
  },
  {
   "cell_type": "code",
   "execution_count": 6,
   "metadata": {
    "collapsed": false,
    "deletable": true,
    "editable": true
   },
   "outputs": [],
   "source": [
    "for i in xrange(9):\n",
    "#     processedData[\"p\"+str(i+1)] = np.swapaxes(processedData[\"p\"+str(i+1)], 1, 3)\n",
    "    processedData[\"p\"+str(i+1)] = np.expand_dims(processedData[\"p\"+str(i+1)], axis=1)"
   ]
  },
  {
   "cell_type": "code",
   "execution_count": 7,
   "metadata": {
    "collapsed": false,
    "deletable": true,
    "editable": true
   },
   "outputs": [
    {
     "data": {
      "text/plain": [
       "(360, 1, 51, 61, 23)"
      ]
     },
     "execution_count": 7,
     "metadata": {},
     "output_type": "execute_result"
    }
   ],
   "source": [
    "processedData[\"p1\"].shape"
   ]
  },
  {
   "cell_type": "code",
   "execution_count": 8,
   "metadata": {
    "collapsed": true,
    "deletable": true,
    "editable": true
   },
   "outputs": [],
   "source": [
    "from scipy.io import savemat, loadmat\n",
    "\n",
    "savemat(\"PreproCNN.mat\", processedData)"
   ]
  },
  {
   "cell_type": "code",
   "execution_count": 9,
   "metadata": {
    "collapsed": false,
    "deletable": true,
    "editable": true
   },
   "outputs": [],
   "source": [
    "concatenatedData = reduce(lambda x,y:np.concatenate((x, y), axis=0), processedData.values()[0:9])"
   ]
  },
  {
   "cell_type": "code",
   "execution_count": 10,
   "metadata": {
    "collapsed": false,
    "deletable": true,
    "editable": true
   },
   "outputs": [],
   "source": [
    "condY = np.tile(yCond,(9,1))\n",
    "wordY = np.tile(yWord,(9,1))\n",
    "\n",
    "allYs = np.concatenate((condY, wordY), axis=1)"
   ]
  },
  {
   "cell_type": "code",
   "execution_count": 11,
   "metadata": {
    "collapsed": false,
    "deletable": true,
    "editable": true
   },
   "outputs": [
    {
     "data": {
      "text/plain": [
       "array([[ 9, 42],\n",
       "       [ 3, 11],\n",
       "       [ 9, 40],\n",
       "       ..., \n",
       "       [ 1,  2],\n",
       "       [10, 48],\n",
       "       [12, 56]], dtype=int32)"
      ]
     },
     "execution_count": 11,
     "metadata": {},
     "output_type": "execute_result"
    }
   ],
   "source": [
    "allYs"
   ]
  },
  {
   "cell_type": "code",
   "execution_count": 12,
   "metadata": {
    "collapsed": false,
    "deletable": true,
    "editable": true
   },
   "outputs": [],
   "source": [
    "from sklearn.cross_validation import train_test_split\n",
    "\n",
    "xTrain, xTest, yTrain, yTest = \\\n",
    "    train_test_split(concatenatedData, allYs, test_size=0.2, random_state=44)"
   ]
  },
  {
   "cell_type": "code",
   "execution_count": 13,
   "metadata": {
    "collapsed": false,
    "deletable": true,
    "editable": true
   },
   "outputs": [],
   "source": [
    "variableList = [xTrain, xTest, yTrain, yTest]\n",
    "dataReadyForCNN = {\"xTrain\":xTrain, \"xTest\":xTest, \"yTrain\":yTrain, \"yTest\":yTest}\n",
    "\n",
    "sio.savemat(\"DataForCNN.mat\", dataReadyForCNN)"
   ]
  },
  {
   "cell_type": "code",
   "execution_count": null,
   "metadata": {
    "collapsed": true,
    "deletable": true,
    "editable": true
   },
   "outputs": [],
   "source": []
  },
  {
   "cell_type": "code",
   "execution_count": null,
   "metadata": {
    "collapsed": true,
    "deletable": true,
    "editable": true
   },
   "outputs": [],
   "source": []
  },
  {
   "cell_type": "code",
   "execution_count": null,
   "metadata": {
    "collapsed": true,
    "deletable": true,
    "editable": true
   },
   "outputs": [],
   "source": []
  }
 ],
 "metadata": {
  "kernelspec": {
   "display_name": "Python 2",
   "language": "python",
   "name": "python2"
  },
  "language_info": {
   "codemirror_mode": {
    "name": "ipython",
    "version": 2
   },
   "file_extension": ".py",
   "mimetype": "text/x-python",
   "name": "python",
   "nbconvert_exporter": "python",
   "pygments_lexer": "ipython2",
   "version": "2.7.10"
  }
 },
 "nbformat": 4,
 "nbformat_minor": 0
}
